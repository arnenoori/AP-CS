{
  "nbformat": 4,
  "nbformat_minor": 0,
  "metadata": {
    "colab": {
      "provenance": [],
      "include_colab_link": true
    },
    "kernelspec": {
      "name": "python3",
      "display_name": "Python 3"
    }
  },
  "cells": [
    {
      "cell_type": "markdown",
      "metadata": {
        "id": "view-in-github",
        "colab_type": "text"
      },
      "source": [
        "<a href=\"https://colab.research.google.com/github/arnenoori/AP-CS/blob/main/Lab_6B_DATA_301_Arne_Noori.ipynb\" target=\"_parent\"><img src=\"https://colab.research.google.com/assets/colab-badge.svg\" alt=\"Open In Colab\"/></a>"
      ]
    },
    {
      "cell_type": "markdown",
      "source": [
        "# Part A code:\n",
        "---"
      ],
      "metadata": {
        "id": "GhAGxYxQhHz3"
      }
    },
    {
      "cell_type": "markdown",
      "metadata": {
        "id": "Wv2CguEzescV"
      },
      "source": [
        "# Bing Maps API\n",
        "\n",
        "In this part of the lab, you will join the CityBikes data from the previous part of the lab with additional data that you will query from the Bing Maps API.\n",
        "\n",
        "First, you will need to register for a Bing Maps Key. Follow the instructions [here](https://docs.microsoft.com/en-us/bingmaps/getting-started/bing-maps-dev-center-help/getting-a-bing-maps-key). You should be able to sign in with your Cal Poly account. When you get to Step 4, select:\n",
        "\n",
        "- Key type: Basic\n",
        "- Application type: Dev/Test\n",
        "\n",
        "You will be able to make 125000 free requests with the resulting API key. This should be more than enough to complete this assignment.\n",
        "\n",
        "We will be working with the [REST services in the Bing Maps API](https://docs.microsoft.com/en-us/bingmaps/rest-services/). Click on the link for a complete documentation of the features."
      ]
    },
    {
      "cell_type": "markdown",
      "metadata": {
        "id": "vhodHHWtu8Xb"
      },
      "source": [
        "## Question 1\n",
        "\n",
        "Read in the `DataFrame` of bike stations in the United States from Part A of this lab. Restrict to the stations in the \"Bay Wheels\" network (with network ID \"ford-gobike\").\n",
        "\n",
        "How many of these stations are in the city/county of San Francisco? \n",
        "\n",
        "(_Hint:_ Use the [Locations API](https://docs.microsoft.com/en-us/bingmaps/rest-services/locations/) to get the address associated with each latitude and longitude coordinate.)"
      ]
    },
    {
      "cell_type": "code",
      "source": [
        "import requests\n",
        "import pandas as pd\n",
        "\n",
        "# getting list of Bay Wheels stations\n",
        "response = requests.get('http://api.citybik.es/v2/networks/bay-wheels')\n",
        "data = response.json()\n",
        "\n",
        "bay_wheels_stations = []\n",
        "for station in data['network']['stations']:\n",
        "    bay_wheels_stations.append({\n",
        "        'name': station['name'],\n",
        "        'latitude': station['latitude'],\n",
        "        'longitude': station['longitude']\n",
        "    })\n",
        "\n",
        "bay_wheels_stations_df = pd.DataFrame(bay_wheels_stations)\n",
        "\n",
        "# getting address of each station\n",
        "api_key = 'AsBlHnFSrqS73akLcr9zPTlBNWKVnmcYEP8GsY-e1uKyAaLWu9lm1XqK3OxZzjGX'\n",
        "san_francisco_stations = 0\n",
        "for i, row in bay_wheels_stations_df.iterrows():\n",
        "    lat, lon = row['latitude'], row['longitude']\n",
        "    url = f'http://dev.virtualearth.net/REST/v1/Locations/{lat},{lon}?key={api_key}'\n",
        "    response = requests.get(url)\n",
        "    data = response.json()\n",
        "    if 'resourceSets' in data and len(data['resourceSets']) > 0 and 'resources' in data['resourceSets'][0] and len(data['resourceSets'][0]['resources']) > 0:\n",
        "        address = data['resourceSets'][0]['resources'][0]['address']\n",
        "        if address['locality'] == 'San Francisco':\n",
        "            san_francisco_stations += 1\n",
        "            print(f\"Station {row['name']} is located in {address['locality']}, {address['adminDistrict']} County\")\n",
        "\n",
        "print(f\"Number of Bay Wheels stations in San Francisco: {san_francisco_stations}\")"
      ],
      "metadata": {
        "colab": {
          "base_uri": "https://localhost:8080/"
        },
        "id": "2YzJy7QrgspN",
        "outputId": "7f255db1-3681-4d46-b021-b6384d586284"
      },
      "execution_count": 7,
      "outputs": [
        {
          "output_type": "stream",
          "name": "stdout",
          "text": [
            "Station Lane St at Revere Ave is located in San Francisco, CA County\n",
            "Station Mendell St at Fairfax Ave is located in San Francisco, CA County\n",
            "Station Williams Ave at 3rd St is located in San Francisco, CA County\n",
            "Station Indiana St at Cesar Chavez St is located in San Francisco, CA County\n",
            "Station Jennings St at Revere Ave is located in San Francisco, CA County\n",
            "Station McKinnon Ave at 3rd St is located in San Francisco, CA County\n",
            "Station Quesada Ave at 3rd St is located in San Francisco, CA County\n",
            "Station Jerrold Ave at 3rd St is located in San Francisco, CA County\n",
            "Station Oakdale Ave at Phelps St is located in San Francisco, CA County\n",
            "Station Evans Ave at Mendell St is located in San Francisco, CA County\n",
            "Station Williams Ave at Apollo St is located in San Francisco, CA County\n",
            "Station Egbert Ave at Jennings St is located in San Francisco, CA County\n",
            "Station Illinois St at Cesar Chavez St is located in San Francisco, CA County\n",
            "Station Carroll Ave at 3rd St is located in San Francisco, CA County\n",
            "Station Evans Ave at Newhall St is located in San Francisco, CA County\n",
            "Number of Bay Wheels stations in San Francisco: 15\n"
          ]
        }
      ]
    },
    {
      "cell_type": "markdown",
      "source": [
        "**Explanation:** First, I read in the DataFrame of bike stations in the US from Part A and restricted it to stations in the Bay Wheels network. Using the Bing Maps Locations API, I obtained the address associated with each latitude and longitude coordinate for each station. I filtered for stations located in San Francisco and printed their names and locations. The output tells me that there are 15 Bay Wheels stations in San Francisco."
      ],
      "metadata": {
        "id": "j7A3-2YvKgpw"
      }
    },
    {
      "cell_type": "code",
      "source": [
        "bay_wheels_stations_df"
      ],
      "metadata": {
        "colab": {
          "base_uri": "https://localhost:8080/",
          "height": 424
        },
        "id": "pOBIDhpMl3qS",
        "outputId": "9d341241-c98d-46f0-ab89-ec18ee600f15"
      },
      "execution_count": 2,
      "outputs": [
        {
          "output_type": "execute_result",
          "data": {
            "text/plain": [
              "                           name   latitude   longitude\n",
              "0       Harmon St at Adeline St  37.849735 -122.270582\n",
              "1    Fountain Alley at S 2nd St  37.336188 -121.889277\n",
              "2              Oak St at 1st St  37.322125 -121.881090\n",
              "3               Bestor Art Park  37.323678 -121.874119\n",
              "4         5th St at Virginia St  37.325998 -121.877120\n",
              "..                          ...        ...         ...\n",
              "501      36th Ave at Kirkham St  37.758900 -122.495129\n",
              "502       Irving St at 17th Ave  37.763732 -122.475220\n",
              "503       Irving St at 18th Ave  37.763497 -122.476326\n",
              "504  La Playa St at Lincoln Way  37.763874 -122.509526\n",
              "505      Octavia St at Hayes St  37.776911 -122.424632\n",
              "\n",
              "[506 rows x 3 columns]"
            ],
            "text/html": [
              "\n",
              "  <div id=\"df-7b4bfc94-6a63-441c-899b-c70eab805a08\">\n",
              "    <div class=\"colab-df-container\">\n",
              "      <div>\n",
              "<style scoped>\n",
              "    .dataframe tbody tr th:only-of-type {\n",
              "        vertical-align: middle;\n",
              "    }\n",
              "\n",
              "    .dataframe tbody tr th {\n",
              "        vertical-align: top;\n",
              "    }\n",
              "\n",
              "    .dataframe thead th {\n",
              "        text-align: right;\n",
              "    }\n",
              "</style>\n",
              "<table border=\"1\" class=\"dataframe\">\n",
              "  <thead>\n",
              "    <tr style=\"text-align: right;\">\n",
              "      <th></th>\n",
              "      <th>name</th>\n",
              "      <th>latitude</th>\n",
              "      <th>longitude</th>\n",
              "    </tr>\n",
              "  </thead>\n",
              "  <tbody>\n",
              "    <tr>\n",
              "      <th>0</th>\n",
              "      <td>Harmon St at Adeline St</td>\n",
              "      <td>37.849735</td>\n",
              "      <td>-122.270582</td>\n",
              "    </tr>\n",
              "    <tr>\n",
              "      <th>1</th>\n",
              "      <td>Fountain Alley at S 2nd St</td>\n",
              "      <td>37.336188</td>\n",
              "      <td>-121.889277</td>\n",
              "    </tr>\n",
              "    <tr>\n",
              "      <th>2</th>\n",
              "      <td>Oak St at 1st St</td>\n",
              "      <td>37.322125</td>\n",
              "      <td>-121.881090</td>\n",
              "    </tr>\n",
              "    <tr>\n",
              "      <th>3</th>\n",
              "      <td>Bestor Art Park</td>\n",
              "      <td>37.323678</td>\n",
              "      <td>-121.874119</td>\n",
              "    </tr>\n",
              "    <tr>\n",
              "      <th>4</th>\n",
              "      <td>5th St at Virginia St</td>\n",
              "      <td>37.325998</td>\n",
              "      <td>-121.877120</td>\n",
              "    </tr>\n",
              "    <tr>\n",
              "      <th>...</th>\n",
              "      <td>...</td>\n",
              "      <td>...</td>\n",
              "      <td>...</td>\n",
              "    </tr>\n",
              "    <tr>\n",
              "      <th>501</th>\n",
              "      <td>36th Ave at Kirkham St</td>\n",
              "      <td>37.758900</td>\n",
              "      <td>-122.495129</td>\n",
              "    </tr>\n",
              "    <tr>\n",
              "      <th>502</th>\n",
              "      <td>Irving St at 17th Ave</td>\n",
              "      <td>37.763732</td>\n",
              "      <td>-122.475220</td>\n",
              "    </tr>\n",
              "    <tr>\n",
              "      <th>503</th>\n",
              "      <td>Irving St at 18th Ave</td>\n",
              "      <td>37.763497</td>\n",
              "      <td>-122.476326</td>\n",
              "    </tr>\n",
              "    <tr>\n",
              "      <th>504</th>\n",
              "      <td>La Playa St at Lincoln Way</td>\n",
              "      <td>37.763874</td>\n",
              "      <td>-122.509526</td>\n",
              "    </tr>\n",
              "    <tr>\n",
              "      <th>505</th>\n",
              "      <td>Octavia St at Hayes St</td>\n",
              "      <td>37.776911</td>\n",
              "      <td>-122.424632</td>\n",
              "    </tr>\n",
              "  </tbody>\n",
              "</table>\n",
              "<p>506 rows × 3 columns</p>\n",
              "</div>\n",
              "      <button class=\"colab-df-convert\" onclick=\"convertToInteractive('df-7b4bfc94-6a63-441c-899b-c70eab805a08')\"\n",
              "              title=\"Convert this dataframe to an interactive table.\"\n",
              "              style=\"display:none;\">\n",
              "        \n",
              "  <svg xmlns=\"http://www.w3.org/2000/svg\" height=\"24px\"viewBox=\"0 0 24 24\"\n",
              "       width=\"24px\">\n",
              "    <path d=\"M0 0h24v24H0V0z\" fill=\"none\"/>\n",
              "    <path d=\"M18.56 5.44l.94 2.06.94-2.06 2.06-.94-2.06-.94-.94-2.06-.94 2.06-2.06.94zm-11 1L8.5 8.5l.94-2.06 2.06-.94-2.06-.94L8.5 2.5l-.94 2.06-2.06.94zm10 10l.94 2.06.94-2.06 2.06-.94-2.06-.94-.94-2.06-.94 2.06-2.06.94z\"/><path d=\"M17.41 7.96l-1.37-1.37c-.4-.4-.92-.59-1.43-.59-.52 0-1.04.2-1.43.59L10.3 9.45l-7.72 7.72c-.78.78-.78 2.05 0 2.83L4 21.41c.39.39.9.59 1.41.59.51 0 1.02-.2 1.41-.59l7.78-7.78 2.81-2.81c.8-.78.8-2.07 0-2.86zM5.41 20L4 18.59l7.72-7.72 1.47 1.35L5.41 20z\"/>\n",
              "  </svg>\n",
              "      </button>\n",
              "      \n",
              "  <style>\n",
              "    .colab-df-container {\n",
              "      display:flex;\n",
              "      flex-wrap:wrap;\n",
              "      gap: 12px;\n",
              "    }\n",
              "\n",
              "    .colab-df-convert {\n",
              "      background-color: #E8F0FE;\n",
              "      border: none;\n",
              "      border-radius: 50%;\n",
              "      cursor: pointer;\n",
              "      display: none;\n",
              "      fill: #1967D2;\n",
              "      height: 32px;\n",
              "      padding: 0 0 0 0;\n",
              "      width: 32px;\n",
              "    }\n",
              "\n",
              "    .colab-df-convert:hover {\n",
              "      background-color: #E2EBFA;\n",
              "      box-shadow: 0px 1px 2px rgba(60, 64, 67, 0.3), 0px 1px 3px 1px rgba(60, 64, 67, 0.15);\n",
              "      fill: #174EA6;\n",
              "    }\n",
              "\n",
              "    [theme=dark] .colab-df-convert {\n",
              "      background-color: #3B4455;\n",
              "      fill: #D2E3FC;\n",
              "    }\n",
              "\n",
              "    [theme=dark] .colab-df-convert:hover {\n",
              "      background-color: #434B5C;\n",
              "      box-shadow: 0px 1px 3px 1px rgba(0, 0, 0, 0.15);\n",
              "      filter: drop-shadow(0px 1px 2px rgba(0, 0, 0, 0.3));\n",
              "      fill: #FFFFFF;\n",
              "    }\n",
              "  </style>\n",
              "\n",
              "      <script>\n",
              "        const buttonEl =\n",
              "          document.querySelector('#df-7b4bfc94-6a63-441c-899b-c70eab805a08 button.colab-df-convert');\n",
              "        buttonEl.style.display =\n",
              "          google.colab.kernel.accessAllowed ? 'block' : 'none';\n",
              "\n",
              "        async function convertToInteractive(key) {\n",
              "          const element = document.querySelector('#df-7b4bfc94-6a63-441c-899b-c70eab805a08');\n",
              "          const dataTable =\n",
              "            await google.colab.kernel.invokeFunction('convertToInteractive',\n",
              "                                                     [key], {});\n",
              "          if (!dataTable) return;\n",
              "\n",
              "          const docLinkHtml = 'Like what you see? Visit the ' +\n",
              "            '<a target=\"_blank\" href=https://colab.research.google.com/notebooks/data_table.ipynb>data table notebook</a>'\n",
              "            + ' to learn more about interactive tables.';\n",
              "          element.innerHTML = '';\n",
              "          dataTable['output_type'] = 'display_data';\n",
              "          await google.colab.output.renderOutput(dataTable, element);\n",
              "          const docLink = document.createElement('div');\n",
              "          docLink.innerHTML = docLinkHtml;\n",
              "          element.appendChild(docLink);\n",
              "        }\n",
              "      </script>\n",
              "    </div>\n",
              "  </div>\n",
              "  "
            ]
          },
          "metadata": {},
          "execution_count": 2
        }
      ]
    },
    {
      "cell_type": "markdown",
      "metadata": {
        "id": "c3N28ddcIpHt"
      },
      "source": [
        "## Question 2\n",
        "\n",
        "You want to go to Coit Tower. To save money, you decide to ride a \"Bay Wheels\" bike to the closest station and hail a cab from there to Coit Tower. What station should you bike to so that you are as close to Coit Tower as possible (as measured by driving distance)? Does your answer agree with the one that you obtained in Part A of this lab? If not, why does it differ?\n",
        "\n",
        "_Hints:_ \n",
        "- You should restrict your attention to bike stations that are in San Francisco, which you determined in Question 1. \n",
        "- Use the [Routes API](https://docs.microsoft.com/en-us/bingmaps/rest-services/routes/calculate-a-distance-matrix) to calculate a distance matrix between Coit Tower and the bike stations. \n",
        "- You can do this with just one call to the API. Because there are too many stations, it is impossible to specify all the locations in the URL. Instead, you should make a POST request (`requests.post`), passing in the parameters as a JSON object through the `json=` parameter of `requests.post`. Read the API documentation carefully to learn how to use the POST API."
      ]
    },
    {
      "cell_type": "code",
      "source": [
        "# Calculate driving distance between Coit Tower and each Bay Wheels station\n",
        "coit_tower = (37.802747, -122.405861)\n",
        "\n",
        "distances = []\n",
        "for station in san_francisco_stations:\n",
        "    loc = (station['latitude'], station['longitude'])\n",
        "    url = f'https://dev.virtualearth.net/REST/v1/Routes/DistanceMatrix?key={api_key}'\n",
        "    data = {\n",
        "        'origins': [{'latitude': coit_tower[0], 'longitude': coit_tower[1]}],\n",
        "        'destinations': [{'latitude': loc[0], 'longitude': loc[1]}],\n",
        "        'travelMode': 'driving'\n",
        "    }\n",
        "    response = requests.post(url, json=data)\n",
        "    response_data = response.json()\n",
        "    if 'resourceSets' in response_data and len(response_data['resourceSets']) > 0 and 'resources' in response_data['resourceSets'][0] and len(response_data['resourceSets'][0]['resources']) > 0:\n",
        "        driving_distance = response_data['resourceSets'][0]['resources'][0]['results'][0]['travelDistance']\n",
        "        distances.append({'name': station['name'], 'distance': driving_distance})\n",
        "\n",
        "# find closest Bay Wheels station to Coit Tower\n",
        "closest_station = min(distances, key=lambda x: x['distance'])\n",
        "print(f\"Nearest Bay Wheels bike station in San Francisco to Coit Tower: {closest_station['name']}\")"
      ],
      "metadata": {
        "colab": {
          "base_uri": "https://localhost:8080/"
        },
        "id": "fc-6oB23iPUk",
        "outputId": "1a59eb86-b63d-4e1f-e651-ff631adeb807"
      },
      "execution_count": 13,
      "outputs": [
        {
          "output_type": "stream",
          "name": "stdout",
          "text": [
            "Nearest Bay Wheels bike station in San Francisco to Coit Tower: Indiana St at Cesar Chavez St\n"
          ]
        }
      ]
    },
    {
      "cell_type": "markdown",
      "source": [
        "**Answer is different from lab 6A...hmmm**"
      ],
      "metadata": {
        "id": "2Df2ZoYQOVbT"
      }
    },
    {
      "cell_type": "markdown",
      "metadata": {
        "id": "akBCRrv8VeRT"
      },
      "source": [
        "## Submission Instructions\n",
        "\n",
        "- Copy this notebook to your own Drive, if you have not already.\n",
        "- Restart this notebook and run the cells from beginning to end. \n",
        "  - Go to Runtime > Restart and Run All.\n",
        "- Rename this notebook by clicking on \"DATA 301 Lab 6B - YOUR NAMES HERE\" at the very top of this page. Replace \"YOUR NAMES HERE\" with the first and last names of you (and your partners, for Phase 2).\n",
        "- Get the link to your notebook:\n",
        "  - Click on \"Share\" at the top-right. \n",
        "  - Change the settings to \"Anyone with the link can view\". \n",
        "  - Copy the sharing link into Canvas."
      ]
    }
  ]
}